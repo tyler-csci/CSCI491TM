{
  "nbformat": 4,
  "nbformat_minor": 0,
  "metadata": {
    "colab": {
      "name": "project.ipynb",
      "provenance": [],
      "collapsed_sections": [],
      "machine_shape": "hm"
    },
    "kernelspec": {
      "name": "python3",
      "display_name": "Python 3"
    }
  },
  "cells": [
    {
      "cell_type": "code",
      "metadata": {
        "id": "57lRuX0pOAqa",
        "colab_type": "code",
        "colab": {}
      },
      "source": [
        "import logging\n",
        "import pandas as pd\n",
        "import numpy as np\n",
        "from numpy import random\n",
        "import matplotlib.pyplot as plt\n",
        "import gensim\n",
        "import nltk\n",
        "import re\n",
        "\n",
        "from sklearn.model_selection import train_test_split\n",
        "from sklearn.feature_extraction.text import CountVectorizer, TfidfVectorizer\n",
        "from sklearn.metrics import accuracy_score, confusion_matrix\n",
        "from nltk.corpus import stopwords\n",
        "from bs4 import BeautifulSoup\n",
        "%matplotlib inline"
      ],
      "execution_count": 0,
      "outputs": []
    },
    {
      "cell_type": "code",
      "metadata": {
        "id": "2WTRgmiiyD87",
        "colab_type": "code",
        "outputId": "a1976f47-5165-4825-cfa1-86efacf97f48",
        "colab": {
          "base_uri": "https://localhost:8080/",
          "height": 204
        }
      },
      "source": [
        "#read in file\n",
        "df = pd.read_csv('quiz1.csv')\n",
        "df = df[pd.notnull(df['Rating'])]\n",
        "print(df.head(10))"
      ],
      "execution_count": 140,
      "outputs": [
        {
          "output_type": "stream",
          "text": [
            "    ID  Rating                                           Response\n",
            "0   JA       2  R2 and R3 are in parallel so the voltage drop ...\n",
            "1  WCA       2  Vs is an ideal component, so changing R2 will ...\n",
            "2   AA       1  First count the node and see what we have on p...\n",
            "3   RA       2  Since R2 decreases that means more current wil...\n",
            "4   AB       1  If the resistance of R2 decreases the power as...\n",
            "5   KB       2  All of the current from Vs goes through R1 and...\n",
            "6   JB       2  I would start this problem by examining the ca...\n",
            "7   BB       2  Since the resistance of R2 goes down, more cur...\n",
            "8   JB       3  When the resistance is lower, the current incr...\n",
            "9   NB       2  As R2 decreases, voltage stays the same, so I2...\n"
          ],
          "name": "stdout"
        }
      ]
    },
    {
      "cell_type": "code",
      "metadata": {
        "id": "XKUfIqZ3OXSW",
        "colab_type": "code",
        "outputId": "0f522733-5901-432c-ed9d-66b669e2ef74",
        "colab": {
          "base_uri": "https://localhost:8080/",
          "height": 330
        }
      },
      "source": [
        "#plot number of responses per rating\n",
        "ratings = ['1','2','3','4','5']\n",
        "plt.figure(figsize=(10,5))\n",
        "df.groupby('Rating').Response.count().plot.bar(ylim=0)\n",
        "plt.show()"
      ],
      "execution_count": 141,
      "outputs": [
        {
          "output_type": "display_data",
          "data": {
            "image/png": "[encoded data removed]",
            "text/plain": [
              "<Figure size 720x360 with 1 Axes>"
            ]
          },
          "metadata": {
            "tags": []
          }
        }
      ]
    },
    {
      "cell_type": "code",
      "metadata": {
        "id": "wGEWlTd4noad",
        "colab_type": "code",
        "outputId": "5fc7d11a-4f96-4182-8567-874f175d07a1",
        "colab": {
          "base_uri": "https://localhost:8080/",
          "height": 34
        }
      },
      "source": [
        "print('Total Words in Response before pre-processing:',df['Response'].apply(lambda x: len(x.split(' '))).sum())"
      ],
      "execution_count": 142,
      "outputs": [
        {
          "output_type": "stream",
          "text": [
            "Total Words in Response before pre-processing: 10379\n"
          ],
          "name": "stdout"
        }
      ]
    },
    {
      "cell_type": "code",
      "metadata": {
        "id": "4jHtGqYiO16q",
        "colab_type": "code",
        "outputId": "a1b5304a-2163-4b02-8680-21ee3ad8c8dc",
        "colab": {
          "base_uri": "https://localhost:8080/",
          "height": 71
        }
      },
      "source": [
        "#read thru csv to see what text looks like before preprocessing\n",
        "def print_plot(index):\n",
        "    sample = df[df.index == index][['Response', 'Rating']].values[0]\n",
        "    if len(sample) > 0:\n",
        "        print(sample[0])\n",
        "        print('Rating:', sample[1])\n",
        "print_plot(0)"
      ],
      "execution_count": 143,
      "outputs": [
        {
          "output_type": "stream",
          "text": [
            "R2 and R3 are in parallel so the voltage drop across each is equal but the current is not.  Then if I knew values I would calculate the new equivalent resistance between them, then R23 plus R1 because they are in series.  The I would use Ohmís law to find the new current in the circuit using voltage equals current times resistance.  I know all the elements are ideal and how resistor behave in parallel and in series, I also know Vs, R1 and R3 remain unchanged.  The next thing I would do is power equals current times voltage and because all resistors dissipate power, I would know Vs has to supply power.  At first glance, without doing any math, you could assume that a greater portion of the current entering into the node would go through R2 because itíd take the path of least resistance.  going back to calculating power I would also use power equals current squared times resistance so I wouldnít need voltage, but it would be useful to finding current so I would still use it.\n",
            "Rating: 2\n"
          ],
          "name": "stdout"
        }
      ]
    },
    {
      "cell_type": "code",
      "metadata": {
        "id": "Jz9tWdtyPLp2",
        "colab_type": "code",
        "outputId": "f7e3eae1-4e53-4a09-a6cd-23f4922c5c28",
        "colab": {
          "base_uri": "https://localhost:8080/",
          "height": 51
        }
      },
      "source": [
        "#preprocessing\n",
        "nltk.download('stopwords') \n",
        "replace_space = re.compile('[/(){}\\[\\]\\|@,;]') \n",
        "bad_symbol = re.compile('[^0-9a-z #+_]')\n",
        "stopword = set(stopwords.words('english'))\n",
        "\n",
        "def clean_text(text):\n",
        "    text = text.lower() #make all text lower case\n",
        "    text = replace_space.sub(' ', text) #replace symbols with space\n",
        "    text = bad_symbol.sub('', text) #remove bad symbols\n",
        "    text = ' '.join(word for word in text.split() if word not in stopword) #remove stopwords\n",
        "    return text\n",
        "    \n",
        "df['Response'] = df['Response'].apply(clean_text) #apply clean text"
      ],
      "execution_count": 144,
      "outputs": [
        {
          "output_type": "stream",
          "text": [
            "[nltk_data] Downloading package stopwords to /root/nltk_data...\n",
            "[nltk_data]   Package stopwords is already up-to-date!\n"
          ],
          "name": "stdout"
        }
      ]
    },
    {
      "cell_type": "code",
      "metadata": {
        "id": "nQV9zrCWyQPi",
        "colab_type": "code",
        "outputId": "03d16f26-f9a9-4fc5-cf29-54c4d1634912",
        "colab": {
          "base_uri": "https://localhost:8080/",
          "height": 71
        }
      },
      "source": [
        "#print pre processed data sample\n",
        "print_plot(0)"
      ],
      "execution_count": 145,
      "outputs": [
        {
          "output_type": "stream",
          "text": [
            "r2 r3 parallel voltage drop across equal current knew values would calculate new equivalent resistance r23 plus r1 series would use ohms law find new current circuit using voltage equals current times resistance know elements ideal resistor behave parallel series also know vs r1 r3 remain unchanged next thing would power equals current times voltage resistors dissipate power would know vs supply power first glance without math could assume greater portion current entering node would go r2 itd take path least resistance going back calculating power would also use power equals current squared times resistance wouldnt need voltage would useful finding current would still use\n",
            "Rating: 2\n"
          ],
          "name": "stdout"
        }
      ]
    },
    {
      "cell_type": "code",
      "metadata": {
        "id": "lC6eYfFoPYot",
        "colab_type": "code",
        "outputId": "60433bab-1c03-4c2b-ca45-519d9afe0080",
        "colab": {
          "base_uri": "https://localhost:8080/",
          "height": 34
        }
      },
      "source": [
        "print('Total Words after pre-processing:',df['Response'].apply(lambda x: len(x.split(' '))).sum())"
      ],
      "execution_count": 146,
      "outputs": [
        {
          "output_type": "stream",
          "text": [
            "Total Words after pre-processing: 5627\n"
          ],
          "name": "stdout"
        }
      ]
    },
    {
      "cell_type": "code",
      "metadata": {
        "id": "Vkzs5Ph9XWHi",
        "colab_type": "code",
        "outputId": "66466661-d781-4ece-a8dc-3ce7bd230538",
        "colab": {
          "base_uri": "https://localhost:8080/",
          "height": 34
        }
      },
      "source": [
        "from sklearn.feature_extraction.text import TfidfVectorizer\n",
        "tfidf = TfidfVectorizer(sublinear_tf=True, min_df=5, norm='l2', encoding='latin-1', ngram_range=(1, 2), stop_words='english')\n",
        "features = tfidf.fit_transform(df.Response).toarray()\n",
        "labels = df.Rating\n",
        "features.shape"
      ],
      "execution_count": 147,
      "outputs": [
        {
          "output_type": "execute_result",
          "data": {
            "text/plain": [
              "(119, 268)"
            ]
          },
          "metadata": {
            "tags": []
          },
          "execution_count": 147
        }
      ]
    },
    {
      "cell_type": "code",
      "metadata": {
        "id": "GBgKw2PhPgGB",
        "colab_type": "code",
        "colab": {}
      },
      "source": [
        "#create train test set. test size set to 0.5 for 2-fold cross validation\n",
        "X = df.Response\n",
        "Y = df.Rating\n",
        "X_train, X_test, y_train, y_test = train_test_split(X, Y, test_size=0.5, random_state=42)\n",
        "\n",
        "vect = CountVectorizer()\n",
        "X_train_counts = vect.fit_transform(X_train)\n",
        "tfidf_transformer = TfidfTransformer()\n",
        "X_train_tfidf = tfidf_transformer.fit_transform(X_train_counts)"
      ],
      "execution_count": 0,
      "outputs": []
    },
    {
      "cell_type": "code",
      "metadata": {
        "id": "IbCmGOAKPn6Q",
        "colab_type": "code",
        "outputId": "1fa0c7c0-b7f6-4e8d-b81f-3c6d06753047",
        "colab": {
          "base_uri": "https://localhost:8080/",
          "height": 309
        }
      },
      "source": [
        "#MultinomialNB \n",
        "from sklearn.metrics import classification_report\n",
        "from sklearn.naive_bayes import MultinomialNB\n",
        "from sklearn.pipeline import Pipeline\n",
        "\n",
        "#pipelining data vectorize -> transform -> classifier/predict \n",
        "nb = Pipeline([('vect', CountVectorizer()),\n",
        "               ('tfidf', TfidfTransformer()),\n",
        "               ('clf', MultinomialNB()),\n",
        "              ])\n",
        "\n",
        "nb.fit(X_train, y_train)\n",
        "y_pred = nb.predict(X_test)\n",
        "\n",
        "print('Multinomial Naive Bayes')\n",
        "print('Accuracy %s' % accuracy_score(y_pred, y_test))\n",
        "print(classification_report(y_test, y_pred,target_names=ratings))\n"
      ],
      "execution_count": 150,
      "outputs": [
        {
          "output_type": "stream",
          "text": [
            "Multinomial Naive Bayes\n",
            "Accuracy 0.38333333333333336\n",
            "              precision    recall  f1-score   support\n",
            "\n",
            "           1       0.00      0.00      0.00        16\n",
            "           2       0.37      1.00      0.54        22\n",
            "           3       1.00      0.09      0.17        11\n",
            "           4       0.00      0.00      0.00         8\n",
            "           5       0.00      0.00      0.00         3\n",
            "\n",
            "    accuracy                           0.38        60\n",
            "   macro avg       0.27      0.22      0.14        60\n",
            "weighted avg       0.32      0.38      0.23        60\n",
            "\n"
          ],
          "name": "stdout"
        },
        {
          "output_type": "stream",
          "text": [
            "/usr/local/lib/python3.6/dist-packages/sklearn/metrics/classification.py:1437: UndefinedMetricWarning: Precision and F-score are ill-defined and being set to 0.0 in labels with no predicted samples.\n",
            "  'precision', 'predicted', average, warn_for)\n"
          ],
          "name": "stderr"
        }
      ]
    },
    {
      "cell_type": "code",
      "metadata": {
        "id": "ieyZfVCU1S0x",
        "colab_type": "code",
        "outputId": "33a62663-8d79-42ec-a362-a93e551a2f31",
        "colab": {
          "base_uri": "https://localhost:8080/",
          "height": 34
        }
      },
      "source": [
        "#predict rating for random response \n",
        "clf = MultinomialNB().fit(X_train_tfidf, y_train)\n",
        "print('Predicted Rating:',clf.predict(vect.transform([\"The equivalent resistance of the circuit is R1 plus the parallel combination of R2 and R3. As R2 decreases in resistance the R23 parallel combination will also decrease. Lower resistance means higher conductance, and therefore Req becomes lower. As Req lowers, more curernt is allowed through the circuit, and the power absorbed by the resistors increases. The power supplied by Vs also increases, and energy is conserved.\"])))"
      ],
      "execution_count": 151,
      "outputs": [
        {
          "output_type": "stream",
          "text": [
            "Predicted Rating: [2]\n"
          ],
          "name": "stdout"
        }
      ]
    },
    {
      "cell_type": "code",
      "metadata": {
        "id": "YuIs83iXP7sc",
        "colab_type": "code",
        "outputId": "1dba745e-a9ae-4411-ed14-a1ff6512de0a",
        "colab": {
          "base_uri": "https://localhost:8080/",
          "height": 255
        }
      },
      "source": [
        "#Linear SVM\n",
        "from sklearn.linear_model import SGDClassifier\n",
        "\n",
        "sgd = Pipeline([('vect', CountVectorizer()),\n",
        "                ('tfidf', TfidfTransformer()),\n",
        "                ('clf', SGDClassifier(loss='hinge', penalty='l2',alpha=1e-3, random_state=42, max_iter=5, tol=None)),\n",
        "               ])\n",
        "\n",
        "sgd.fit(X_train, y_train)\n",
        "y_pred = sgd.predict(X_test)\n",
        "\n",
        "print('Linear Support Vector Machine')\n",
        "print('accuracy %s' % accuracy_score(y_pred, y_test))\n",
        "print(classification_report(y_test, y_pred,target_names=ratings))"
      ],
      "execution_count": 154,
      "outputs": [
        {
          "output_type": "stream",
          "text": [
            "Linear Support Vector Machine\n",
            "accuracy 0.35\n",
            "              precision    recall  f1-score   support\n",
            "\n",
            "           1       0.46      0.38      0.41        16\n",
            "           2       0.36      0.45      0.40        22\n",
            "           3       0.38      0.27      0.32        11\n",
            "           4       0.22      0.25      0.24         8\n",
            "           5       0.00      0.00      0.00         3\n",
            "\n",
            "    accuracy                           0.35        60\n",
            "   macro avg       0.28      0.27      0.27        60\n",
            "weighted avg       0.35      0.35      0.35        60\n",
            "\n"
          ],
          "name": "stdout"
        }
      ]
    },
    {
      "cell_type": "code",
      "metadata": {
        "id": "G5FlGDPF1FGY",
        "colab_type": "code",
        "outputId": "2caff897-dcad-40c1-e16f-8f48a20e12d5",
        "colab": {
          "base_uri": "https://localhost:8080/",
          "height": 34
        }
      },
      "source": [
        "#predict rating for random response \n",
        "clf = SGDClassifier().fit(X_train_tfidf, y_train)\n",
        "print('Predicted Rating:',clf.predict(vect.transform([\"The equivalent resistance of the circuit is R1 plus the parallel combination of R2 and R3. As R2 decreases in resistance the R23 parallel combination will also decrease. Lower resistance means higher conductance, and therefore Req becomes lower. As Req lowers, more curernt is allowed through the circuit, and the power absorbed by the resistors increases. The power supplied by Vs also increases, and energy is conserved.\"])))"
      ],
      "execution_count": 155,
      "outputs": [
        {
          "output_type": "stream",
          "text": [
            "Predicted Rating: [4]\n"
          ],
          "name": "stdout"
        }
      ]
    },
    {
      "cell_type": "code",
      "metadata": {
        "id": "Kvo4O4XKQBM8",
        "colab_type": "code",
        "outputId": "1eb14931-b534-4d91-de18-4163ed818015",
        "colab": {
          "base_uri": "https://localhost:8080/",
          "height": 377
        }
      },
      "source": [
        "#Logistic Regression\n",
        "from sklearn.linear_model import LogisticRegression\n",
        "\n",
        "logreg = Pipeline([('vect', CountVectorizer()),\n",
        "                ('tfidf', TfidfTransformer()),\n",
        "                ('clf', LogisticRegression(random_state=0)),\n",
        "               ])\n",
        "\n",
        "logreg.fit(X_train, y_train)\n",
        "y_pred = logreg.predict(X_test)\n",
        "\n",
        "print('Logistic Regression')\n",
        "print('accuracy %s' % accuracy_score(y_pred, y_test))\n",
        "print(classification_report(y_test, y_pred,target_names=ratings))"
      ],
      "execution_count": 156,
      "outputs": [
        {
          "output_type": "stream",
          "text": [
            "Logistic Regression\n",
            "accuracy 0.38333333333333336\n",
            "              precision    recall  f1-score   support\n",
            "\n",
            "           1       0.00      0.00      0.00        16\n",
            "           2       0.37      0.91      0.53        22\n",
            "           3       0.50      0.27      0.35        11\n",
            "           4       0.00      0.00      0.00         8\n",
            "           5       0.00      0.00      0.00         3\n",
            "\n",
            "    accuracy                           0.38        60\n",
            "   macro avg       0.17      0.24      0.18        60\n",
            "weighted avg       0.23      0.38      0.26        60\n",
            "\n"
          ],
          "name": "stdout"
        },
        {
          "output_type": "stream",
          "text": [
            "/usr/local/lib/python3.6/dist-packages/sklearn/linear_model/logistic.py:432: FutureWarning: Default solver will be changed to 'lbfgs' in 0.22. Specify a solver to silence this warning.\n",
            "  FutureWarning)\n",
            "/usr/local/lib/python3.6/dist-packages/sklearn/linear_model/logistic.py:469: FutureWarning: Default multi_class will be changed to 'auto' in 0.22. Specify the multi_class option to silence this warning.\n",
            "  \"this warning.\", FutureWarning)\n",
            "/usr/local/lib/python3.6/dist-packages/sklearn/metrics/classification.py:1437: UndefinedMetricWarning: Precision and F-score are ill-defined and being set to 0.0 in labels with no predicted samples.\n",
            "  'precision', 'predicted', average, warn_for)\n"
          ],
          "name": "stderr"
        }
      ]
    },
    {
      "cell_type": "code",
      "metadata": {
        "id": "BXADeA0b0-_Q",
        "colab_type": "code",
        "outputId": "1f1ddada-fabb-4ccc-a621-8ed953ac75f4",
        "colab": {
          "base_uri": "https://localhost:8080/",
          "height": 122
        }
      },
      "source": [
        "#predict rating for random response \n",
        "clf = LogisticRegression().fit(X_train_tfidf, y_train)\n",
        "print('Predicted Rating:',clf.predict(vect.transform([\"The equivalent resistance of the circuit is R1 plus the parallel combination of R2 and R3. As R2 decreases in resistance the R23 parallel combination will also decrease. Lower resistance means higher conductance, and therefore Req becomes lower. As Req lowers, more curernt is allowed through the circuit, and the power absorbed by the resistors increases. The power supplied by Vs also increases, and energy is conserved.\"])))"
      ],
      "execution_count": 157,
      "outputs": [
        {
          "output_type": "stream",
          "text": [
            "Predicted Rating: [4]\n"
          ],
          "name": "stdout"
        },
        {
          "output_type": "stream",
          "text": [
            "/usr/local/lib/python3.6/dist-packages/sklearn/linear_model/logistic.py:432: FutureWarning: Default solver will be changed to 'lbfgs' in 0.22. Specify a solver to silence this warning.\n",
            "  FutureWarning)\n",
            "/usr/local/lib/python3.6/dist-packages/sklearn/linear_model/logistic.py:469: FutureWarning: Default multi_class will be changed to 'auto' in 0.22. Specify the multi_class option to silence this warning.\n",
            "  \"this warning.\", FutureWarning)\n"
          ],
          "name": "stderr"
        }
      ]
    },
    {
      "cell_type": "code",
      "metadata": {
        "id": "cS8fWultZ6HZ",
        "colab_type": "code",
        "outputId": "fcb67056-aeda-47b5-e9ef-e0339beb090d",
        "colab": {
          "base_uri": "https://localhost:8080/",
          "height": 309
        }
      },
      "source": [
        "#Random Forest Classifier\n",
        "from sklearn.ensemble import RandomForestClassifier\n",
        "\n",
        "rfc = Pipeline([('vect', CountVectorizer()),\n",
        "                ('tfidf', TfidfTransformer()),\n",
        "                ('clf', RandomForestClassifier(n_estimators=200, max_depth=3, random_state=0)),\n",
        "                 ])\n",
        "\n",
        "rfc.fit(X_train, y_train)\n",
        "y_pred = rfc.predict(X_test)\n",
        "\n",
        "print('Random Forest Classifier')\n",
        "print('accuracy %s' % accuracy_score(y_pred, y_test))\n",
        "print(classification_report(y_test, y_pred,target_names=ratings))"
      ],
      "execution_count": 158,
      "outputs": [
        {
          "output_type": "stream",
          "text": [
            "Random Forest Classifier\n",
            "accuracy 0.38333333333333336\n",
            "              precision    recall  f1-score   support\n",
            "\n",
            "           1       0.00      0.00      0.00        16\n",
            "           2       0.37      1.00      0.54        22\n",
            "           3       1.00      0.09      0.17        11\n",
            "           4       0.00      0.00      0.00         8\n",
            "           5       0.00      0.00      0.00         3\n",
            "\n",
            "    accuracy                           0.38        60\n",
            "   macro avg       0.27      0.22      0.14        60\n",
            "weighted avg       0.32      0.38      0.23        60\n",
            "\n"
          ],
          "name": "stdout"
        },
        {
          "output_type": "stream",
          "text": [
            "/usr/local/lib/python3.6/dist-packages/sklearn/metrics/classification.py:1437: UndefinedMetricWarning: Precision and F-score are ill-defined and being set to 0.0 in labels with no predicted samples.\n",
            "  'precision', 'predicted', average, warn_for)\n"
          ],
          "name": "stderr"
        }
      ]
    },
    {
      "cell_type": "code",
      "metadata": {
        "id": "jW6eIfT705Gj",
        "colab_type": "code",
        "outputId": "4477e8f1-18f2-4ea1-c0e1-6f9d18185bcc",
        "colab": {
          "base_uri": "https://localhost:8080/",
          "height": 88
        }
      },
      "source": [
        "#predict rating for random response \n",
        "clf = RandomForestClassifier().fit(X_train_tfidf, y_train)\n",
        "print('Predicted Rating:',clf.predict(vect.transform([\"The equivalent resistance of the circuit is R1 plus the parallel combination of R2 and R3. As R2 decreases in resistance the R23 parallel combination will also decrease. Lower resistance means higher conductance, and therefore Req becomes lower. As Req lowers, more curernt is allowed through the circuit, and the power absorbed by the resistors increases. The power supplied by Vs also increases, and energy is conserved.\"])))"
      ],
      "execution_count": 159,
      "outputs": [
        {
          "output_type": "stream",
          "text": [
            "Predicted Rating: [4]\n"
          ],
          "name": "stdout"
        },
        {
          "output_type": "stream",
          "text": [
            "/usr/local/lib/python3.6/dist-packages/sklearn/ensemble/forest.py:245: FutureWarning: The default value of n_estimators will change from 10 in version 0.20 to 100 in 0.22.\n",
            "  \"10 in version 0.20 to 100 in 0.22.\", FutureWarning)\n"
          ],
          "name": "stderr"
        }
      ]
    },
    {
      "cell_type": "code",
      "metadata": {
        "id": "kjVc0TQbqwoq",
        "colab_type": "code",
        "outputId": "582e5257-5943-4dc8-fd85-784f5a584b69",
        "colab": {
          "base_uri": "https://localhost:8080/",
          "height": 377
        }
      },
      "source": [
        "#plot data using seaborn\n",
        "import seaborn as sns\n",
        "from sklearn.model_selection import cross_val_score\n",
        "\n",
        "models = [\n",
        "          MultinomialNB(),\n",
        "          LogisticRegression(random_state=0),\n",
        "          RandomForestClassifier(n_estimators=200, max_depth=3, random_state=0),\n",
        "          SGDClassifier(loss='hinge', penalty='l2',alpha=1e-3, random_state=42, max_iter=5, tol=None),\n",
        "]\n",
        "CV = 5\n",
        "cv_df = pd.DataFrame(index=range(CV * len(models)))\n",
        "entries = []\n",
        "\n",
        "for model in models:\n",
        "  model_name = model.__class__.__name__\n",
        "  accuracy = cross_val_score(model, features, labels, scoring='accuracy', cv=CV)\n",
        "  for fold_idx, accuracy in enumerate(accuracy):\n",
        "    entries.append((model_name, fold_idx, accuracy))\n",
        "cv_df = pd.DataFrame(entries, columns=['classifier', 'fold_idx', 'accuracy'])\n"
      ],
      "execution_count": 160,
      "outputs": [
        {
          "output_type": "stream",
          "text": [
            "/usr/local/lib/python3.6/dist-packages/sklearn/linear_model/logistic.py:432: FutureWarning: Default solver will be changed to 'lbfgs' in 0.22. Specify a solver to silence this warning.\n",
            "  FutureWarning)\n",
            "/usr/local/lib/python3.6/dist-packages/sklearn/linear_model/logistic.py:469: FutureWarning: Default multi_class will be changed to 'auto' in 0.22. Specify the multi_class option to silence this warning.\n",
            "  \"this warning.\", FutureWarning)\n",
            "/usr/local/lib/python3.6/dist-packages/sklearn/linear_model/logistic.py:432: FutureWarning: Default solver will be changed to 'lbfgs' in 0.22. Specify a solver to silence this warning.\n",
            "  FutureWarning)\n",
            "/usr/local/lib/python3.6/dist-packages/sklearn/linear_model/logistic.py:469: FutureWarning: Default multi_class will be changed to 'auto' in 0.22. Specify the multi_class option to silence this warning.\n",
            "  \"this warning.\", FutureWarning)\n",
            "/usr/local/lib/python3.6/dist-packages/sklearn/linear_model/logistic.py:432: FutureWarning: Default solver will be changed to 'lbfgs' in 0.22. Specify a solver to silence this warning.\n",
            "  FutureWarning)\n",
            "/usr/local/lib/python3.6/dist-packages/sklearn/linear_model/logistic.py:469: FutureWarning: Default multi_class will be changed to 'auto' in 0.22. Specify the multi_class option to silence this warning.\n",
            "  \"this warning.\", FutureWarning)\n",
            "/usr/local/lib/python3.6/dist-packages/sklearn/linear_model/logistic.py:432: FutureWarning: Default solver will be changed to 'lbfgs' in 0.22. Specify a solver to silence this warning.\n",
            "  FutureWarning)\n",
            "/usr/local/lib/python3.6/dist-packages/sklearn/linear_model/logistic.py:469: FutureWarning: Default multi_class will be changed to 'auto' in 0.22. Specify the multi_class option to silence this warning.\n",
            "  \"this warning.\", FutureWarning)\n",
            "/usr/local/lib/python3.6/dist-packages/sklearn/linear_model/logistic.py:432: FutureWarning: Default solver will be changed to 'lbfgs' in 0.22. Specify a solver to silence this warning.\n",
            "  FutureWarning)\n",
            "/usr/local/lib/python3.6/dist-packages/sklearn/linear_model/logistic.py:469: FutureWarning: Default multi_class will be changed to 'auto' in 0.22. Specify the multi_class option to silence this warning.\n",
            "  \"this warning.\", FutureWarning)\n"
          ],
          "name": "stderr"
        }
      ]
    },
    {
      "cell_type": "code",
      "metadata": {
        "id": "NxP0NfDYraa2",
        "colab_type": "code",
        "outputId": "cc8ea902-d691-4922-ff59-0266b4806587",
        "colab": {
          "base_uri": "https://localhost:8080/",
          "height": 279
        }
      },
      "source": [
        "plot = sns.boxplot(x=\"accuracy\", y=\"classifier\", data=cv_df)"
      ],
      "execution_count": 161,
      "outputs": [
        {
          "output_type": "display_data",
          "data": {
            "image/png": "[encoded data removed]",
            "text/plain": [
              "<Figure size 432x288 with 1 Axes>"
            ]
          },
          "metadata": {
            "tags": []
          }
        }
      ]
    }
  ]
}